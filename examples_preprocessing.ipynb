{
 "cells": [
  {
   "cell_type": "markdown",
   "id": "6bccc865",
   "metadata": {},
   "source": [
    "IMPORTING NLTK"
   ]
  },
  {
   "cell_type": "code",
   "execution_count": 1,
   "id": "0c28f910",
   "metadata": {},
   "outputs": [
    {
     "name": "stderr",
     "output_type": "stream",
     "text": [
      "WARNING: Ignoring invalid distribution -otebook (c:\\users\\mdfl0\\appdata\\local\\programs\\python\\python39\\lib\\site-packages)\n",
      "WARNING: Ignoring invalid distribution -otebook (c:\\users\\mdfl0\\appdata\\local\\programs\\python\\python39\\lib\\site-packages)\n",
      "WARNING: Ignoring invalid distribution -otebook (c:\\users\\mdfl0\\appdata\\local\\programs\\python\\python39\\lib\\site-packages)\n",
      "WARNING: Ignoring invalid distribution -otebook (c:\\users\\mdfl0\\appdata\\local\\programs\\python\\python39\\lib\\site-packages)\n",
      "WARNING: Ignoring invalid distribution -otebook (c:\\users\\mdfl0\\appdata\\local\\programs\\python\\python39\\lib\\site-packages)\n",
      "WARNING: Ignoring invalid distribution -otebook (c:\\users\\mdfl0\\appdata\\local\\programs\\python\\python39\\lib\\site-packages)\n"
     ]
    },
    {
     "name": "stdout",
     "output_type": "stream",
     "text": [
      "Requirement already satisfied: nltk in c:\\users\\mdfl0\\appdata\\local\\programs\\python\\python39\\lib\\site-packages (3.8.1)\n",
      "Requirement already satisfied: joblib in c:\\users\\mdfl0\\appdata\\local\\programs\\python\\python39\\lib\\site-packages (from nltk) (1.2.0)\n",
      "Requirement already satisfied: click in c:\\users\\mdfl0\\appdata\\local\\programs\\python\\python39\\lib\\site-packages (from nltk) (8.1.3)\n",
      "Requirement already satisfied: tqdm in c:\\users\\mdfl0\\appdata\\local\\programs\\python\\python39\\lib\\site-packages (from nltk) (4.64.1)\n",
      "Requirement already satisfied: regex>=2021.8.3 in c:\\users\\mdfl0\\appdata\\local\\programs\\python\\python39\\lib\\site-packages (from nltk) (2022.10.31)\n",
      "Requirement already satisfied: colorama in c:\\users\\mdfl0\\appdata\\local\\programs\\python\\python39\\lib\\site-packages (from click->nltk) (0.4.6)\n"
     ]
    },
    {
     "name": "stderr",
     "output_type": "stream",
     "text": [
      "[nltk_data] Downloading package vader_lexicon to\n",
      "[nltk_data]     C:\\Users\\mdfl0\\AppData\\Roaming\\nltk_data...\n",
      "[nltk_data]   Package vader_lexicon is already up-to-date!\n",
      "[nltk_data] Downloading package punkt to\n",
      "[nltk_data]     C:\\Users\\mdfl0\\AppData\\Roaming\\nltk_data...\n",
      "[nltk_data]   Package punkt is already up-to-date!\n",
      "[nltk_data] Downloading package averaged_perceptron_tagger to\n",
      "[nltk_data]     C:\\Users\\mdfl0\\AppData\\Roaming\\nltk_data...\n",
      "[nltk_data]   Package averaged_perceptron_tagger is already up-to-\n",
      "[nltk_data]       date!\n",
      "[nltk_data] Downloading package wordnet to\n",
      "[nltk_data]     C:\\Users\\mdfl0\\AppData\\Roaming\\nltk_data...\n",
      "[nltk_data]   Package wordnet is already up-to-date!\n"
     ]
    },
    {
     "data": {
      "text/plain": [
       "True"
      ]
     },
     "execution_count": 1,
     "metadata": {},
     "output_type": "execute_result"
    }
   ],
   "source": [
    "!pip install nltk \n",
    "import nltk\n",
    "from nltk import pos_tag\n",
    "from nltk.corpus import wordnet\n",
    "nltk.download('vader_lexicon')\n",
    "nltk.download('punkt')\n",
    "nltk.download('averaged_perceptron_tagger')\n",
    "nltk.download('wordnet')"
   ]
  },
  {
   "cell_type": "code",
   "execution_count": 2,
   "id": "ed301934",
   "metadata": {},
   "outputs": [],
   "source": [
    "# preprocessing imports\n",
    "from nltk.tokenize import RegexpTokenizer, word_tokenize, regexp_tokenize, sent_tokenize\n",
    "from nltk.stem import WordNetLemmatizer\n",
    "from nltk.stem.porter import PorterStemmer\n",
    "from nltk import pos_tag"
   ]
  },
  {
   "cell_type": "markdown",
   "id": "cc3004e5",
   "metadata": {},
   "source": [
    "PREPROCESSING"
   ]
  },
  {
   "cell_type": "code",
   "execution_count": 3,
   "id": "d8287188",
   "metadata": {},
   "outputs": [],
   "source": [
    "# Sample string\n",
    "x = 'My cat Tom is 16 years old and is from England and is ugly in January. While my other cat Amy is uglier also Kevin is the ugliest! 他又小又臭.'"
   ]
  },
  {
   "cell_type": "code",
   "execution_count": 4,
   "id": "b8780628",
   "metadata": {},
   "outputs": [
    {
     "name": "stdout",
     "output_type": "stream",
     "text": [
      "my cat tom is 16 years old and is from england and is ugly in january. while my other cat amy is uglier also kevin is the ugliest! 他又小又臭.\n"
     ]
    }
   ],
   "source": [
    "# Lowercasing text\n",
    "x = x.lower()\n",
    "print(x)"
   ]
  },
  {
   "cell_type": "code",
   "execution_count": 6,
   "id": "265a8680",
   "metadata": {},
   "outputs": [],
   "source": [
    "# Word tokenization\n",
    "w_tokens = word_tokenize(x)"
   ]
  },
  {
   "cell_type": "code",
   "execution_count": 7,
   "id": "ff41b11b",
   "metadata": {},
   "outputs": [
    {
     "name": "stdout",
     "output_type": "stream",
     "text": [
      "['my', 'cat', 'tom', 'is', '16', 'years', 'old', 'and', 'is', 'from', 'england', 'and', 'is', 'ugly', 'in', 'january', '.', 'while', 'my', 'other', 'cat', 'amy', 'is', 'uglier', 'also', 'kevin', 'is', 'the', 'ugliest', '!', '他又小又臭', '.']\n"
     ]
    }
   ],
   "source": [
    "print(w_tokens)"
   ]
  },
  {
   "cell_type": "code",
   "execution_count": 8,
   "id": "7a402835",
   "metadata": {},
   "outputs": [],
   "source": [
    "# Sentence tokenization\n",
    "s_tokens = sent_tokenize(x)"
   ]
  },
  {
   "cell_type": "code",
   "execution_count": 9,
   "id": "09a501cd",
   "metadata": {},
   "outputs": [
    {
     "name": "stdout",
     "output_type": "stream",
     "text": [
      "['my cat tom is 16 years old and is from england and is ugly in january.', 'while my other cat amy is uglier also kevin is the ugliest!', '他又小又臭.']\n"
     ]
    }
   ],
   "source": [
    "print(s_tokens)"
   ]
  },
  {
   "cell_type": "code",
   "execution_count": 10,
   "id": "c240643e",
   "metadata": {},
   "outputs": [],
   "source": [
    "# Regular expression tokenization\n",
    "match_words = r\"\\b[^\\d\\W]+\\b\"\n",
    "r_tokens = regexp_tokenize(x, match_words)"
   ]
  },
  {
   "cell_type": "code",
   "execution_count": 11,
   "id": "9b8e8c65",
   "metadata": {},
   "outputs": [
    {
     "name": "stdout",
     "output_type": "stream",
     "text": [
      "['my', 'cat', 'tom', 'is', 'years', 'old', 'and', 'is', 'from', 'england', 'and', 'is', 'ugly', 'in', 'january', 'while', 'my', 'other', 'cat', 'amy', 'is', 'uglier', 'also', 'kevin', 'is', 'the', 'ugliest', '他又小又臭']\n"
     ]
    }
   ],
   "source": [
    "print(r_tokens)"
   ]
  },
  {
   "cell_type": "markdown",
   "id": "da064ac1",
   "metadata": {},
   "source": [
    "IMPORTING STOPWORDS"
   ]
  },
  {
   "cell_type": "code",
   "execution_count": 12,
   "id": "28e8c3f8",
   "metadata": {},
   "outputs": [
    {
     "name": "stderr",
     "output_type": "stream",
     "text": [
      "[nltk_data] Downloading package stopwords to\n",
      "[nltk_data]     C:\\Users\\mdfl0\\AppData\\Roaming\\nltk_data...\n",
      "[nltk_data]   Package stopwords is already up-to-date!\n"
     ]
    },
    {
     "data": {
      "text/plain": [
       "True"
      ]
     },
     "execution_count": 12,
     "metadata": {},
     "output_type": "execute_result"
    }
   ],
   "source": [
    "from nltk.corpus import stopwords\n",
    "nltk.download('stopwords')"
   ]
  },
  {
   "cell_type": "markdown",
   "id": "643c1c5e",
   "metadata": {},
   "source": [
    "STOPPING WORDS"
   ]
  },
  {
   "cell_type": "code",
   "execution_count": 13,
   "id": "8c1ddcba",
   "metadata": {},
   "outputs": [
    {
     "name": "stdout",
     "output_type": "stream",
     "text": [
      "['i', 'me', 'my', 'myself', 'we', 'our', 'ours', 'ourselves', 'you', \"you're\", \"you've\", \"you'll\", \"you'd\", 'your', 'yours', 'yourself', 'yourselves', 'he', 'him', 'his', 'himself', 'she', \"she's\", 'her', 'hers', 'herself', 'it', \"it's\", 'its', 'itself', 'they', 'them', 'their', 'theirs', 'themselves', 'what', 'which', 'who', 'whom', 'this', 'that', \"that'll\", 'these', 'those', 'am', 'is', 'are', 'was', 'were', 'be', 'been', 'being', 'have', 'has', 'had', 'having', 'do', 'does', 'did', 'doing', 'a', 'an', 'the', 'and', 'but', 'if', 'or', 'because', 'as', 'until', 'while', 'of', 'at', 'by', 'for', 'with', 'about', 'against', 'between', 'into', 'through', 'during', 'before', 'after', 'above', 'below', 'to', 'from', 'up', 'down', 'in', 'out', 'on', 'off', 'over', 'under', 'again', 'further', 'then', 'once', 'here', 'there', 'when', 'where', 'why', 'how', 'all', 'any', 'both', 'each', 'few', 'more', 'most', 'other', 'some', 'such', 'no', 'nor', 'not', 'only', 'own', 'same', 'so', 'than', 'too', 'very', 's', 't', 'can', 'will', 'just', 'don', \"don't\", 'should', \"should've\", 'now', 'd', 'll', 'm', 'o', 're', 've', 'y', 'ain', 'aren', \"aren't\", 'couldn', \"couldn't\", 'didn', \"didn't\", 'doesn', \"doesn't\", 'hadn', \"hadn't\", 'hasn', \"hasn't\", 'haven', \"haven't\", 'isn', \"isn't\", 'ma', 'mightn', \"mightn't\", 'mustn', \"mustn't\", 'needn', \"needn't\", 'shan', \"shan't\", 'shouldn', \"shouldn't\", 'wasn', \"wasn't\", 'weren', \"weren't\", 'won', \"won't\", 'wouldn', \"wouldn't\"]\n",
      "179\n"
     ]
    }
   ],
   "source": [
    "# create a variable containing a tuple of english words to stop\n",
    "stop_words = stopwords.words('english')\n",
    "print(stop_words)\n",
    "print(len(stop_words))"
   ]
  },
  {
   "cell_type": "code",
   "execution_count": 14,
   "id": "fae902cb",
   "metadata": {},
   "outputs": [],
   "source": [
    "# stop words or tokens that dont give value\n",
    "stopped_word_tokens = [token for token in r_tokens if token not in stop_words]"
   ]
  },
  {
   "cell_type": "code",
   "execution_count": 15,
   "id": "2d19c337",
   "metadata": {},
   "outputs": [
    {
     "name": "stdout",
     "output_type": "stream",
     "text": [
      "['cat', 'tom', 'years', 'old', 'england', 'ugly', 'january', 'cat', 'amy', 'uglier', 'also', 'kevin', 'ugliest', '他又小又臭']\n"
     ]
    }
   ],
   "source": [
    "print(stopped_word_tokens)"
   ]
  },
  {
   "cell_type": "code",
   "execution_count": 16,
   "id": "6ace5bd4",
   "metadata": {},
   "outputs": [
    {
     "name": "stdout",
     "output_type": "stream",
     "text": [
      "180\n"
     ]
    }
   ],
   "source": [
    "stop_words.append('also')\n",
    "print(len(stop_words))"
   ]
  },
  {
   "cell_type": "code",
   "execution_count": 17,
   "id": "07a9c1a6",
   "metadata": {},
   "outputs": [],
   "source": [
    "stopped_word_tokens = [token for token in r_tokens if token not in stop_words]"
   ]
  },
  {
   "cell_type": "code",
   "execution_count": 18,
   "id": "844337c7",
   "metadata": {},
   "outputs": [
    {
     "name": "stdout",
     "output_type": "stream",
     "text": [
      "['cat', 'tom', 'years', 'old', 'england', 'ugly', 'january', 'cat', 'amy', 'uglier', 'kevin', 'ugliest', '他又小又臭']\n"
     ]
    }
   ],
   "source": [
    "print(stopped_word_tokens)"
   ]
  },
  {
   "cell_type": "markdown",
   "id": "cb3dea2a",
   "metadata": {},
   "source": [
    "STEMMING"
   ]
  },
  {
   "cell_type": "code",
   "execution_count": 19,
   "id": "9299ff42",
   "metadata": {},
   "outputs": [],
   "source": [
    "from nltk.stem.porter import PorterStemmer"
   ]
  },
  {
   "cell_type": "code",
   "execution_count": 20,
   "id": "22c2486a",
   "metadata": {},
   "outputs": [],
   "source": [
    "# Stem the tokens\n",
    "stemmer = PorterStemmer()\n",
    "stemmed_tokens = [stemmer.stem(token) for token in stopped_word_tokens]"
   ]
  },
  {
   "cell_type": "code",
   "execution_count": 21,
   "id": "989f7e14",
   "metadata": {},
   "outputs": [
    {
     "name": "stdout",
     "output_type": "stream",
     "text": [
      "['cat', 'tom', 'year', 'old', 'england', 'ugli', 'januari', 'cat', 'ami', 'uglier', 'kevin', 'ugliest', '他又小又臭']\n"
     ]
    }
   ],
   "source": [
    "print(stemmed_tokens)"
   ]
  },
  {
   "cell_type": "markdown",
   "id": "90c7b90c",
   "metadata": {},
   "source": [
    "PART OF SPEECH TAGGING AND LEMMATIZATION "
   ]
  },
  {
   "cell_type": "code",
   "execution_count": 22,
   "id": "f22a952e",
   "metadata": {},
   "outputs": [],
   "source": [
    "# Use pos_tag first before lematizing for better accuracy\n",
    "def pos_tagging(tokens):\n",
    "    #add a part of speech tag\n",
    "    tagged_tokens = pos_tag(tokens)\n",
    "    return tagged_tokens"
   ]
  },
  {
   "cell_type": "code",
   "execution_count": 23,
   "id": "4bbe951d",
   "metadata": {},
   "outputs": [],
   "source": [
    "def get_wordnet_pos(treebank_tag):\n",
    "    # if the token is an adjective\n",
    "    if treebank_tag.startswith('J'):\n",
    "        return wordnet.ADJ\n",
    "    # if the token is a verb\n",
    "    elif treebank_tag.startswith('V'):\n",
    "        return wordnet.VERB\n",
    "    # if the token is a noun\n",
    "    elif treebank_tag.startswith('N'):\n",
    "        return wordnet.NOUN\n",
    "    # if the token is an adverb\n",
    "    elif treebank_tag.startswith('R'):\n",
    "        return wordnet.ADV\n",
    "    else:\n",
    "        return wordnet.NOUN # default value"
   ]
  },
  {
   "cell_type": "code",
   "execution_count": 24,
   "id": "017acf94",
   "metadata": {},
   "outputs": [],
   "source": [
    "def lemmatize_tagged_tokens(tagged_tokens):\n",
    "    lemmatizer = WordNetLemmatizer()\n",
    "    lemmatized_tokens = []\n",
    "    for token, tag in tagged_tokens:\n",
    "        tag = get_wordnet_pos(tag)\n",
    "        lemmatized_tokens.append(lemmatizer.lemmatize(token, tag))\n",
    "    return lemmatized_tokens"
   ]
  },
  {
   "cell_type": "code",
   "execution_count": 25,
   "id": "9e45b1d4",
   "metadata": {},
   "outputs": [],
   "source": [
    "tagged_tokens = pos_tagging(stopped_word_tokens)"
   ]
  },
  {
   "cell_type": "code",
   "execution_count": 26,
   "id": "668318ad",
   "metadata": {},
   "outputs": [
    {
     "name": "stdout",
     "output_type": "stream",
     "text": [
      "[('cat', 'NN'), ('tom', 'CD'), ('years', 'NNS'), ('old', 'JJ'), ('england', 'VBP'), ('ugly', 'RB'), ('january', 'JJ'), ('cat', 'NN'), ('amy', 'RB'), ('uglier', 'JJ'), ('kevin', 'NN'), ('ugliest', 'JJS'), ('他又小又臭', 'NN')]\n"
     ]
    }
   ],
   "source": [
    "print(tagged_tokens)"
   ]
  },
  {
   "cell_type": "code",
   "execution_count": 27,
   "id": "09b08869",
   "metadata": {},
   "outputs": [],
   "source": [
    "lemmatized_tokens = lemmatize_tagged_tokens(tagged_tokens)"
   ]
  },
  {
   "cell_type": "code",
   "execution_count": 28,
   "id": "48684d1c",
   "metadata": {},
   "outputs": [
    {
     "name": "stdout",
     "output_type": "stream",
     "text": [
      "['cat', 'tom', 'year', 'old', 'england', 'ugly', 'january', 'cat', 'amy', 'ugly', 'kevin', 'ugly', '他又小又臭']\n"
     ]
    }
   ],
   "source": [
    "print(lemmatized_tokens)"
   ]
  },
  {
   "cell_type": "markdown",
   "id": "8aaad38a",
   "metadata": {},
   "source": [
    "NAMED ENTITY RECOGNITION (OPTIONAL, DEPENDING ON THE DATA USE)"
   ]
  },
  {
   "cell_type": "code",
   "execution_count": 29,
   "id": "bb9abf2a",
   "metadata": {},
   "outputs": [
    {
     "name": "stderr",
     "output_type": "stream",
     "text": [
      "[nltk_data] Downloading package maxent_ne_chunker to\n",
      "[nltk_data]     C:\\Users\\mdfl0\\AppData\\Roaming\\nltk_data...\n",
      "[nltk_data]   Package maxent_ne_chunker is already up-to-date!\n",
      "[nltk_data] Downloading package words to\n",
      "[nltk_data]     C:\\Users\\mdfl0\\AppData\\Roaming\\nltk_data...\n",
      "[nltk_data]   Package words is already up-to-date!\n"
     ]
    },
    {
     "data": {
      "text/plain": [
       "True"
      ]
     },
     "execution_count": 29,
     "metadata": {},
     "output_type": "execute_result"
    }
   ],
   "source": [
    "from nltk import ne_chunk\n",
    "nltk.download('maxent_ne_chunker')\n",
    "nltk.download('words')"
   ]
  },
  {
   "cell_type": "code",
   "execution_count": 30,
   "id": "1483703e",
   "metadata": {},
   "outputs": [],
   "source": [
    "named_e_tagged_tokens = ne_chunk(tagged_tokens)"
   ]
  },
  {
   "cell_type": "code",
   "execution_count": 31,
   "id": "dfacc477",
   "metadata": {},
   "outputs": [
    {
     "name": "stdout",
     "output_type": "stream",
     "text": [
      "(S\n",
      "  cat/NN\n",
      "  tom/CD\n",
      "  years/NNS\n",
      "  old/JJ\n",
      "  england/VBP\n",
      "  ugly/RB\n",
      "  january/JJ\n",
      "  cat/NN\n",
      "  amy/RB\n",
      "  uglier/JJ\n",
      "  kevin/NN\n",
      "  ugliest/JJS\n",
      "  他又小又臭/NN)\n"
     ]
    }
   ],
   "source": [
    "print(named_e_tagged_tokens)"
   ]
  },
  {
   "cell_type": "markdown",
   "id": "20399418",
   "metadata": {},
   "source": [
    "Bigrams and Trigrams"
   ]
  },
  {
   "cell_type": "code",
   "execution_count": 32,
   "id": "586a289d",
   "metadata": {},
   "outputs": [
    {
     "name": "stdout",
     "output_type": "stream",
     "text": [
      "[('cat', 'tom'), ('tom', 'year'), ('year', 'old'), ('old', 'england'), ('england', 'ugly'), ('ugly', 'january'), ('january', 'cat'), ('cat', 'amy'), ('amy', 'ugly'), ('ugly', 'kevin'), ('kevin', 'ugly'), ('ugly', '他又小又臭')]\n"
     ]
    }
   ],
   "source": [
    "bigrams = list(nltk.bigrams(lemmatized_tokens))\n",
    "print(bigrams)"
   ]
  },
  {
   "cell_type": "code",
   "execution_count": 33,
   "id": "ff85149b",
   "metadata": {},
   "outputs": [
    {
     "name": "stdout",
     "output_type": "stream",
     "text": [
      "[('cat', 'tom', 'year'), ('tom', 'year', 'old'), ('year', 'old', 'england'), ('old', 'england', 'ugly'), ('england', 'ugly', 'january'), ('ugly', 'january', 'cat'), ('january', 'cat', 'amy'), ('cat', 'amy', 'ugly'), ('amy', 'ugly', 'kevin'), ('ugly', 'kevin', 'ugly'), ('kevin', 'ugly', '他又小又臭')]\n"
     ]
    }
   ],
   "source": [
    "trigrams = list(nltk.trigrams(lemmatized_tokens))\n",
    "print(trigrams)"
   ]
  },
  {
   "cell_type": "code",
   "execution_count": null,
   "id": "2c592e66",
   "metadata": {},
   "outputs": [],
   "source": []
  }
 ],
 "metadata": {
  "kernelspec": {
   "display_name": "Python 3 (ipykernel)",
   "language": "python",
   "name": "python3"
  },
  "language_info": {
   "codemirror_mode": {
    "name": "ipython",
    "version": 3
   },
   "file_extension": ".py",
   "mimetype": "text/x-python",
   "name": "python",
   "nbconvert_exporter": "python",
   "pygments_lexer": "ipython3",
   "version": "3.9.2"
  }
 },
 "nbformat": 4,
 "nbformat_minor": 5
}
